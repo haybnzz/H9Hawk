{
 "cells": [
  {
   "cell_type": "markdown",
   "metadata": {},
   "source": [
    "# Aerial Object Detection with YOLOv11"
   ]
  },
  {
   "cell_type": "code",
   "execution_count": null,
   "metadata": {},
   "outputs": [],
   "source": [
    "import numpy as np\n",
    "import pandas as pd\n",
    "import os"
   ]
  },
  {
   "cell_type": "code",
   "execution_count": null,
   "metadata": {},
   "outputs": [],
   "source": [
    "for dirname, _, filenames in os.walk('/kaggle/input'):\n",
    "    for filename in filenames:\n",
    "        (os.path.join(dirname, filename))"
   ]
  },
  {
   "cell_type": "code",
   "execution_count": null,
   "metadata": {},
   "outputs": [],
   "source": [
    "%pip install ultralytics"
   ]
  },
  {
   "cell_type": "code",
   "execution_count": null,
   "metadata": {},
   "outputs": [],
   "source": [
    "import os\n",
    "import random\n",
    "import pandas as pd\n",
    "from PIL import Image\n",
    "import cv2\n",
    "from ultralytics import YOLO\n",
    "from IPython.display import Video\n",
    "import numpy as np  \n",
    "import matplotlib.pyplot as plt\n",
    "import seaborn as sns\n",
    "import pathlib\n",
    "import glob\n",
    "from tqdm.notebook import trange, tqdm\n",
    "import yaml\n",
    "%matplotlib inline"
   ]
  },
  {
   "cell_type": "markdown",
   "metadata": {},
   "source": [
    "## Showing the structure"
   ]
  },
  {
   "cell_type": "code",
   "execution_count": null,
   "metadata": {},
   "outputs": [],
   "source": [
    "root_dir = \"/kaggle/input/visdrone-dataset/VisDrone_Dataset\"\n",
    "\n",
    "for root, dirs, files in os.walk(root_dir):\n",
    "    level = root.replace(root_dir, '').count(os.sep)\n",
    "    indent = '  ' * level\n",
    "    print(f\"{indent}{os.path.basename(root)}/\")"
   ]
  },
  {
   "cell_type": "markdown",
   "metadata": {},
   "source": [
    "## Showing the yaml file"
   ]
  },
  {
   "cell_type": "code",
   "execution_count": null,
   "metadata": {},
   "outputs": [],
   "source": [
    "yaml_path=\"/kaggle/input/visdrone-dataset/VisDrone_Dataset/visdrone.yaml\"\n",
    "with open(yaml_path,\"r\") as file:\n",
    "    data=yaml.safe_load(file)\n",
    "print(data)"
   ]
  },
  {
   "cell_type": "markdown",
   "metadata": {},
   "source": [
    "## Labels in DataSet"
   ]
  },
  {
   "cell_type": "code",
   "execution_count": null,
   "metadata": {},
   "outputs": [],
   "source": [
    "data['names']"
   ]
  },
  {
   "cell_type": "code",
   "execution_count": null,
   "metadata": {},
   "outputs": [],
   "source": [
    "class_img=data['names']"
   ]
  },
  {
   "cell_type": "markdown",
   "metadata": {},
   "source": [
    "## Showing some train images"
   ]
  },
  {
   "cell_type": "code",
   "execution_count": null,
   "metadata": {},
   "outputs": [],
   "source": [
    "train_images_dir = \"/kaggle/input/visdrone-dataset/VisDrone_Dataset/VisDrone2019-DET-train/images\"\n",
    "\n",
    "# Get list of image files\n",
    "image_files = [f for f in os.listdir(train_images_dir) if f.lower().endswith(('.png', '.jpg', '.jpeg'))]\n",
    "\n",
    "# Pick 25 random images (or less if not enough)\n",
    "sample_files = random.sample(image_files, min(25, len(image_files)))\n",
    "\n",
    "plt.figure(figsize=(20,12))\n",
    "\n",
    "for i, img_name in enumerate(sample_files, 1):\n",
    "    img_path = os.path.join(train_images_dir, img_name)\n",
    "    img = Image.open(img_path)\n",
    "    plt.subplot(5,5,i)\n",
    "    plt.imshow(img)\n",
    "    plt.axis('off')\n",
    "\n",
    "plt.tight_layout()\n",
    "plt.show()"
   ]
  },
  {
   "cell_type": "markdown",
   "metadata": {},
   "source": [
    "## Showing the test image"
   ]
  },
  {
   "cell_type": "code",
   "execution_count": null,
   "metadata": {},
   "outputs": [],
   "source": [
    "train_images_dir = \"/kaggle/input/visdrone-dataset/VisDrone_Dataset/VisDrone2019-DET-test-dev/images\"\n",
    "\n",
    "# Get list of image files\n",
    "image_files = [f for f in os.listdir(train_images_dir) if f.lower().endswith(('.png', '.jpg', '.jpeg'))]\n",
    "\n",
    "# Pick 25 random images (or less if not enough)\n",
    "sample_files = random.sample(image_files, min(25, len(image_files)))\n",
    "\n",
    "plt.figure(figsize=(20,12))\n",
    "\n",
    "for i, img_name in enumerate(sample_files, 1):\n",
    "    img_path = os.path.join(train_images_dir, img_name)\n",
    "    img = Image.open(img_path)\n",
    "    plt.subplot(5,5,i)\n",
    "    plt.imshow(img)\n",
    "    plt.axis('off')\n",
    "\n",
    "plt.tight_layout()\n",
    "plt.show()"
   ]
  },
  {
   "cell_type": "markdown",
   "metadata": {},
   "source": [
    "## Showing the val images"
   ]
  },
  {
   "cell_type": "code",
   "execution_count": null,
   "metadata": {},
   "outputs": [],
   "source": [
    "train_images_dir = \"/kaggle/input/visdrone-dataset/VisDrone_Dataset/VisDrone2019-DET-val/images\"\n",
    "\n",
    "# Get list of image files\n",
    "image_files = [f for f in os.listdir(train_images_dir) if f.lower().endswith(('.png', '.jpg', '.jpeg'))]\n",
    "\n",
    "# Pick 25 random images (or less if not enough)\n",
    "sample_files = random.sample(image_files, min(25, len(image_files)))\n",
    "\n",
    "plt.figure(figsize=(20,12))\n",
    "\n",
    "for i, img_name in enumerate(sample_files, 1):\n",
    "    img_path = os.path.join(train_images_dir, img_name)\n",
    "    img = Image.open(img_path)\n",
    "    plt.subplot(5,5,i)\n",
    "    plt.imshow(img)\n",
    "    plt.axis('off')\n",
    "\n",
    "plt.tight_layout()\n",
    "plt.show()"
   ]
  },
  {
   "cell_type": "markdown",
   "metadata": {},
   "source": [
    "## Ploting the graphs of images found"
   ]
  },
  {
   "cell_type": "code",
   "execution_count": null,
   "metadata": {},
   "outputs": [],
   "source": [
    "train_dir = \"/kaggle/input/visdrone-dataset/VisDrone_Dataset/VisDrone2019-DET-train/images\"\n",
    "valid_dir = \"/kaggle/input/visdrone-dataset/VisDrone_Dataset/VisDrone2019-DET-val/images\"\n",
    "test_dir = \"/kaggle/input/visdrone-dataset/VisDrone_Dataset/VisDrone2019-DET-test-dev/images\"\n",
    "\n",
    "# Count images in each folder\n",
    "train_count = len([f for f in os.listdir(train_dir) if f.lower().endswith(('.png', '.jpg', '.jpeg'))])\n",
    "valid_count = len([f for f in os.listdir(valid_dir) if f.lower().endswith(('.png', '.jpg', '.jpeg'))])\n",
    "test_count = len([f for f in os.listdir(test_dir) if f.lower().endswith(('.png', '.jpg', '.jpeg'))])\n",
    "\n",
    "print(f\" Train Image count :{train_count}\")\n",
    "print(f\" Test Image count :{test_count}\")\n",
    "print(f\" Val Image count :{valid_count}\")\n",
    "# Plotting\n",
    "plt.figure(figsize=(15,5))\n",
    "plt.bar(['Train', 'Valid', 'Test'], [train_count, valid_count, test_count], color=['blue', 'orange', 'green'])\n",
    "plt.title('Number of Images in Each Dataset Split')\n",
    "plt.ylabel('Number of Images')\n",
    "plt.show()"
   ]
  },
  {
   "cell_type": "code",
   "execution_count": null,
   "metadata": {},
   "outputs": [],
   "source": [
    "import cv2\n",
    "\n",
    "def plot(image_path,label_path):\n",
    "    # 🖼️ Load image\n",
    "    # image_path = \"image.jpg\"\n",
    "    # label_path = \"image.txt\"\n",
    "    image = cv2.imread(image_path)\n",
    "    height, width = image.shape[:2]\n",
    "    \n",
    "    # 📄 Read YOLO label file\n",
    "    with open(label_path, \"r\") as f:\n",
    "        lines = f.readlines()\n",
    "    \n",
    "    # 📦 Draw bounding boxes\n",
    "    for line in lines:\n",
    "        class_id, x_center, y_center, w, h = map(float, line.strip().split())\n",
    "        \n",
    "        # Convert normalized coords to pixel values\n",
    "        x_center *= width\n",
    "        y_center *= height\n",
    "        w *= width\n",
    "        h *= height\n",
    "    \n",
    "        # Get top-left and bottom-right\n",
    "        x1 = int(x_center - w / 2)\n",
    "        y1 = int(y_center - h / 2)\n",
    "        x2 = int(x_center + w / 2)\n",
    "        y2 = int(y_center + h / 2)\n",
    "    \n",
    "        # Draw rectangle\n",
    "        cv2.rectangle(image, (x1, y1), (x2, y2), (0, 255, 0), 2)\n",
    "        cv2.putText(image, f\"{class_img[class_id]}\", (x1, y1 - 10),\n",
    "                    cv2.FONT_HERSHEY_SIMPLEX, 0.5, (0, 255, 0), 2)\n",
    "    \n",
    "    # 📸 Show result\n",
    "    plt.figure(figsize=(10,7))\n",
    "    plt.imshow( image)\n",
    "    plt.show()"
   ]
  },
  {
   "cell_type": "code",
   "execution_count": null,
   "metadata": {},
   "outputs": [],
   "source": [
    "plot(\"/kaggle/input/visdrone-dataset/VisDrone_Dataset/VisDrone2019-DET-test-dev/images/0000006_00159_d_0000001.jpg\",\n",
    "    \"/kaggle/input/visdrone-dataset/VisDrone_Dataset/VisDrone2019-DET-test-dev/labels/0000006_00159_d_0000001.txt\")"
   ]
  },
  {
   "cell_type": "code",
   "execution_count": null,
   "metadata": {},
   "outputs": [],
   "source": [
    "plot(\"/kaggle/input/visdrone-dataset/VisDrone_Dataset/VisDrone2019-DET-train/images/9999942_00000_d_0000082.jpg\" \n",
    " ,\"/kaggle/input/visdrone-dataset/VisDrone_Dataset/VisDrone2019-DET-train/labels/9999942_00000_d_0000082.txt\")"
   ]
  },
  {
   "cell_type": "code",
   "execution_count": null,
   "metadata": {},
   "outputs": [],
   "source": [
    "def plot(image_path,label_path):\n",
    "    # 🖼️ Load image\n",
    "    # image_path = \"image.jpg\"\n",
    "    # label_path = \"image.txt\"\n",
    "    image = cv2.imread(image_path)\n",
    "    height, width = image.shape[:2]\n",
    "    \n",
    "    # 📄 Read YOLO label file\n",
    "    with open(label_path, \"r\") as f:\n",
    "        lines = f.readlines()\n",
    "    \n",
    "    # 📦 Draw bounding boxes\n",
    "    for line in lines:\n",
    "        class_id, x_center, y_center, w, h = map(float, line.strip().split())\n",
    "        \n",
    "        # Convert normalized coords to pixel values\n",
    "        x_center *= width\n",
    "        y_center *= height\n",
    "        w *= width\n",
    "        h *= height\n",
    "    \n",
    "        # Get top-left and bottom-right\n",
    "        x1 = int(x_center - w / 2)\n",
    "        y1 = int(y_center - h / 2)\n",
    "        x2 = int(x_center + w / 2)\n",
    "        y2 = int(y_center + h / 2)\n",
    "    \n",
    "        # Draw rectangle\n",
    "        cv2.rectangle(image, (x1, y1), (x2, y2), (0, 255, 0), 2)\n",
    "        cv2.putText(image, f\"{class_img[class_id]}\", (x1, y1 - 10),\n",
    "                    cv2.FONT_HERSHEY_SIMPLEX, 0.5, (0, 255, 0), 2)\n",
    "    \n",
    "    # 📸 Show result\n",
    "    return image"
   ]
  },
  {
   "cell_type": "code",
   "execution_count": null,
   "metadata": {},
   "outputs": [],
   "source": [
    "train_images_dir = \"/kaggle/input/visdrone-dataset/VisDrone_Dataset/VisDrone2019-DET-train/images\"\n",
    "train_label_dir=\"/kaggle/input/visdrone-dataset/VisDrone_Dataset/VisDrone2019-DET-train/labels\"\n",
    "# Get list of image files\n",
    "image_files = [f for f in os.listdir(train_images_dir) if f.lower().endswith(('.png', '.jpg', '.jpeg'))]\n",
    "\n",
    "# Pick 10 random images (or less if not enough)\n",
    "sample_files = random.sample(image_files, min(10, len(image_files)))\n",
    "\n",
    "plt.figure(figsize=(30,90))\n",
    "\n",
    "for i, img_name in enumerate(sample_files, 1):\n",
    "    img_path = os.path.join(train_images_dir, img_name)\n",
    "    labelfile= os.path.join(train_label_dir, img_name)\n",
    "    label_path = os.path.splitext(labelfile)[0] + \".txt\"\n",
    "    # print(img_path,\"\\n\",label_path)\n",
    "    image_with_boxes = plot(img_path, label_path)\n",
    "    plt.subplot(10,1,i)\n",
    "    plt.imshow(image_with_boxes)\n",
    "    # plt.axis('off')\n",
    "    # plt.show()\n",
    "\n",
    "plt.tight_layout()\n",
    "plt.show()"
   ]
  },
  {
   "cell_type": "code",
   "execution_count": null,
   "metadata": {},
   "outputs": [],
   "source": [
    "yaml_path=\"/kaggle/input/visdrone-dataset/VisDrone_Dataset/visdrone.yaml\"\n",
    "\n",
    "dataset_yaml = \"\"\"\n",
    "# VisDrone Dataset Configuration\n",
    "path: /kaggle/input/visdrone-dataset/VisDrone_Dataset\n",
    "train: VisDrone2019-DET-train/images\n",
    "val: VisDrone2019-DET-val/images\n",
    "test: VisDrone2019-DET-test-dev/images\n",
    "\n",
    "# Number of classes\n",
    "nc: 10\n",
    "\n",
    "# Class names\n",
    "names:\n",
    "  0: pedestrian\n",
    "  1: people\n",
    "  2: bicycle\n",
    "  3: car\n",
    "  4: van\n",
    "  5: truck\n",
    "  6: tricycle\n",
    "  7: awning-tricycle\n",
    "  8: bus\n",
    "  9: motor\n",
    "\"\"\"\n",
    "\n",
    "# Save the YAML to a file\n",
    "with open(\"visdrone.yaml\", \"w\") as f:\n",
    "    f.write(dataset_yaml)\n",
    "\n",
    "yaml_path=\"/kaggle/working/visdrone.yaml\""
   ]
  },
  {
   "cell_type": "markdown",
   "metadata": {},
   "source": [
    "## Download the model"
   ]
  },
  {
   "cell_type": "code",
   "execution_count": null,
   "metadata": {},
   "outputs": [],
   "source": [
    "from ultralytics import YOLO\n",
    "\n",
    "\n",
    "model = YOLO(\"yolo11n.pt\")"
   ]
  },
  {
   "cell_type": "code",
   "execution_count": null,
   "metadata": {},
   "outputs": [],
   "source": [
    "model.train(\n",
    "    data=yaml_path,\n",
    "    epochs=30,\n",
    "    batch=-1,\n",
    "    optimizer=\"auto\"\n",
    ")"
   ]
  },
  {
   "cell_type": "code",
   "execution_count": null,
   "metadata": {},
   "outputs": [],
   "source": [
    "output_dir = \"/kaggle/working/runs/detect/train\"\n",
    "\n",
    "plot_files = [\n",
    "    \"BOXP_curve.png\", \"BoxPR_curve.png\", \"BoxF1_curve.png\", \"BoxR_curve.png\",\n",
    "    \"confusion_matrix.png\", \"confusion_matrix_normalized.png\",\n",
    "    \"labels.jpg\", \"labels_correlogram.jpg\", \"results.png\"\n",
    "]\n",
    "\n",
    "# Filter only existing files\n",
    "existing_plots = [f for f in plot_files if os.path.exists(os.path.join(output_dir, f))]\n",
    "\n",
    "# Show each image individually\n",
    "for file in existing_plots:\n",
    "    img_path = os.path.join(output_dir, file)\n",
    "    img = Image.open(img_path)\n",
    "    plt.figure(figsize=(15, 7))\n",
    "    plt.imshow(img)\n",
    "    plt.title(file)\n",
    "    plt.axis('off')\n",
    "    plt.show()"
   ]
  },
  {
   "cell_type": "code",
   "execution_count": null,
   "metadata": {},
   "outputs": [],
   "source": [
    "model_result=pd.read_csv(\"/kaggle/working/runs/detect/train/results.csv\")\n",
    "\n",
    "model_result"
   ]
  },
  {
   "cell_type": "code",
   "execution_count": null,
   "metadata": {},
   "outputs": [],
   "source": [
    "model_result.columns = model_result.columns.str.strip()\n",
    "\n",
    "fig, axs = plt.subplots(nrows=5, ncols=2, figsize=(15, 15))\n",
    "\n",
    "# Plot the columns using seaborn\n",
    "sns.lineplot(x='epoch', y='train/box_loss', data=model_result, ax=axs[0,0])\n",
    "sns.lineplot(x='epoch', y='train/cls_loss', data=model_result, ax=axs[0,1])\n",
    "sns.lineplot(x='epoch', y='train/dfl_loss', data=model_result, ax=axs[1,0])\n",
    "sns.lineplot(x='epoch', y='metrics/precision(B)', data=model_result, ax=axs[1,1])\n",
    "sns.lineplot(x='epoch', y='metrics/recall(B)', data=model_result, ax=axs[2,0])\n",
    "sns.lineplot(x='epoch', y='metrics/mAP50(B)', data=model_result, ax=axs[2,1])\n",
    "sns.lineplot(x='epoch', y='metrics/mAP50-95(B)', data=model_result, ax=axs[3,0])\n",
    "sns.lineplot(x='epoch', y='val/box_loss', data=model_result, ax=axs[3,1])\n",
    "sns.lineplot(x='epoch', y='val/cls_loss', data=model_result, ax=axs[4,0])\n",
    "sns.lineplot(x='epoch', y='val/dfl_loss', data=model_result, ax=axs[4,1])\n",
    "\n",
    "# Set titles and axis labels for each subplot\n",
    "axs[0,0].set(title='Train Box Loss')\n",
    "axs[0,1].set(title='Train Class Loss')\n",
    "axs[1,0].set(title='Train DFL Loss')\n",
    "axs[1,1].set(title='Metrics Precision (B)')\n",
    "axs[2,0].set(title='Metrics Recall (B)')\n",
    "axs[2,1].set(title='Metrics mAP50 (B)')\n",
    "axs[3,0].set(title='Metrics mAP50-95 (B)')\n",
    "axs[3,1].set(title='Validation Box Loss')\n",
    "axs[4,0].set(title='Validation Class Loss')\n",
    "axs[4,1].set(title='Validation DFL Loss')\n",
    "\n",
    "\n",
    "plt.suptitle('Training Metrics and Loss', fontsize=24)\n",
    "plt.subplots_adjust(top=0.8)\n",
    "plt.tight_layout()\n",
    "plt.show()"
   ]
  },
  {
   "cell_type": "code",
   "execution_count": null,
   "metadata": {},
   "outputs": [],
   "source": [
    "# Set Seaborn style for better aesthetics\n",
    "sns.set_style(\"whitegrid\")\n",
    "plt.rcParams['font.size'] = 12\n",
    "plt.rcParams['axes.titlesize'] = 14\n",
    "plt.rcParams['axes.labelsize'] = 12\n",
    "plt.rcParams['legend.fontsize'] = 10\n",
    "plt.rcParams['xtick.labelsize'] = 10\n",
    "plt.rcParams['ytick.labelsize'] = 10\n",
    "\n",
    "# Define a color palette for consistency\n",
    "colors = sns.color_palette(\"husl\", 8)\n",
    "\n",
    "# Strip whitespace from column names (just in case)\n",
    "model_result.columns = model_result.columns.str.strip()\n",
    "\n",
    "# Create figure with subplots for original plots (5 rows, 2 columns)\n",
    "fig, axs = plt.subplots(nrows=5, ncols=2, figsize=(15, 20), dpi=100)\n",
    "\n",
    "# Original plots\n",
    "sns.lineplot(x='epoch', y='train/box_loss', data=model_result, ax=axs[0, 0], color=colors[0], linewidth=2)\n",
    "sns.lineplot(x='epoch', y='train/cls_loss', data=model_result, ax=axs[0, 1], color=colors[1], linewidth=2)\n",
    "sns.lineplot(x='epoch', y='train/dfl_loss', data=model_result, ax=axs[1, 0], color=colors[2], linewidth=2)\n",
    "sns.lineplot(x='epoch', y='metrics/precision(B)', data=model_result, ax=axs[1, 1], color=colors[3], linewidth=2)\n",
    "sns.lineplot(x='epoch', y='metrics/recall(B)', data=model_result, ax=axs[2, 0], color=colors[4], linewidth=2)\n",
    "sns.lineplot(x='epoch', y='metrics/mAP50(B)', data=model_result, ax=axs[2, 1], color=colors[5], linewidth=2)\n",
    "sns.lineplot(x='epoch', y='metrics/mAP50-95(B)', data=model_result, ax=axs[3, 0], color=colors[6], linewidth=2)\n",
    "sns.lineplot(x='epoch', y='val/box_loss', data=model_result, ax=axs[3, 1], color=colors[0], linewidth=2)\n",
    "sns.lineplot(x='epoch', y='val/cls_loss', data=model_result, ax=axs[4, 0], color=colors[1], linewidth=2)\n",
    "sns.lineplot(x='epoch', y='val/dfl_loss', data=model_result, ax=axs[4, 1], color=colors[2], linewidth=2)\n",
    "\n",
    "# Set titles and labels\n",
    "axs[0, 0].set(title='Train Box Loss', xlabel='Epoch', ylabel='Loss')\n",
    "axs[0, 1].set(title='Train Class Loss', xlabel='Epoch', ylabel='Loss')\n",
    "axs[1, 0].set(title='Train DFL Loss', xlabel='Epoch', ylabel='Loss')\n",
    "axs[1, 1].set(title='Precision (B)', xlabel='Epoch', ylabel='Precision')\n",
    "axs[2, 0].set(title='Recall (B)', xlabel='Epoch', ylabel='Recall')\n",
    "axs[2, 1].set(title='mAP50 (B)', xlabel='Epoch', ylabel='mAP50')\n",
    "axs[3, 0].set(title='mAP50-95 (B)', xlabel='Epoch', ylabel='mAP50-95')\n",
    "axs[3, 1].set(title='Validation Box Loss', xlabel='Epoch', ylabel='Loss')\n",
    "axs[4, 0].set(title='Validation Class Loss', xlabel='Epoch', ylabel='Loss')\n",
    "axs[4, 1].set(title='Validation DFL Loss', xlabel='Epoch', ylabel='Loss')\n",
    "\n",
    "# Main title and layout\n",
    "plt.suptitle('Training and Validation Metrics\\n\\n')\n",
    "plt.tight_layout()\n",
    "\n",
    "# Additional Plots\n",
    "# 1. Train vs Validation Loss Comparison\n",
    "fig_comp, axs_comp = plt.subplots(1, 3, figsize=(15, 5), dpi=100)\n",
    "sns.lineplot(x='epoch', y='train/box_loss', data=model_result, label='Train', ax=axs_comp[0], color=colors[0], linewidth=2)\n",
    "sns.lineplot(x='epoch', y='val/box_loss', data=model_result, label='Validation', ax=axs_comp[0], color=colors[1], linewidth=2)\n",
    "axs_comp[0].set(title='Box Loss: Train vs Val', xlabel='Epoch', ylabel='Box Loss')\n",
    "axs_comp[0].legend()\n",
    "\n",
    "sns.lineplot(x='epoch', y='train/cls_loss', data=model_result, label='Train', ax=axs_comp[1], color=colors[0], linewidth=2)\n",
    "sns.lineplot(x='epoch', y='val/cls_loss', data=model_result, label='Validation', ax=axs_comp[1], color=colors[1], linewidth=2)\n",
    "axs_comp[1].set(title='Class Loss: Train vs Val', xlabel='Epoch', ylabel='Class Loss')\n",
    "axs_comp[1].legend()\n",
    "\n",
    "sns.lineplot(x='epoch', y='train/dfl_loss', data=model_result, label='Train', ax=axs_comp[2], color=colors[0], linewidth=2)\n",
    "sns.lineplot(x='epoch', y='val/dfl_loss', data=model_result, label='Validation', ax=axs_comp[2], color=colors[1], linewidth=2)\n",
    "axs_comp[2].set(title='DFL Loss: Train vs Val', xlabel='Epoch', ylabel='DFL Loss')\n",
    "axs_comp[2].legend()\n",
    "\n",
    "plt.tight_layout()\n",
    "plt.show()\n",
    "\n",
    "# 2. Precision vs Recall Scatter Plot\n",
    "fig_pr, ax_pr = plt.subplots(figsize=(10, 10), dpi=100)\n",
    "sns.scatterplot(x='metrics/recall(B)', y='metrics/precision(B)', hue='epoch', size='epoch',palette='viridis', data=model_result, ax=ax_pr, legend='full')\n",
    "ax_pr.set(title='Precision vs Recall', xlabel='Recall (B)', ylabel='Precision (B)')\n",
    "plt.legend(loc=\"best\")\n",
    "plt.tight_layout()\n",
    "plt.show()\n",
    "\n",
    "# 3. Total Loss\n",
    "model_result['train/total_loss'] = model_result['train/box_loss'] + model_result['train/cls_loss'] + model_result['train/dfl_loss']\n",
    "model_result['val/total_loss'] = model_result['val/box_loss'] + model_result['val/cls_loss'] + model_result['val/dfl_loss']\n",
    "\n",
    "fig_total, ax_total = plt.subplots(figsize=(10, 5), dpi=100)\n",
    "sns.lineplot(x='epoch', y='train/total_loss', data=model_result, label='Train', ax=ax_total, color=colors[0], linewidth=2)\n",
    "sns.lineplot(x='epoch', y='val/total_loss', data=model_result, label='Validation', ax=ax_total, color=colors[1], linewidth=2)\n",
    "ax_total.set(title='Total Loss: Train vs Val', xlabel='Epoch', ylabel='Total Loss')\n",
    "ax_total.legend()\n",
    "plt.tight_layout()\n",
    "plt.show()\n",
    "\n",
    "# 4. mAP50 vs mAP50-95\n",
    "fig_map, ax_map = plt.subplots(figsize=(10, 5), dpi=100)\n",
    "sns.lineplot(x='epoch', y='metrics/mAP50(B)', data=model_result, label='mAP50', ax=ax_map, color=colors[5], linewidth=2)\n",
    "sns.lineplot(x='epoch', y='metrics/mAP50-95(B)', data=model_result, label='mAP50-95', ax=ax_map, color=colors[6], linewidth=2)\n",
    "ax_map.set(title='mAP50 vs mAP50-95', xlabel='Epoch', ylabel='mAP')\n",
    "ax_map.legend()\n",
    "plt.tight_layout()\n",
    "plt.show()\n",
    "\n",
    "# 5. Loss Components Contribution (Stacked Area Plot)\n",
    "fig_stack, axs_stack = plt.subplots(1, 2, figsize=(15, 5), dpi=100)\n",
    "axs_stack[0].stackplot(model_result['epoch'],\n",
    "                       model_result['train/box_loss'],\n",
    "                       model_result['train/cls_loss'],\n",
    "                       model_result['train/dfl_loss'],\n",
    "                       labels=['Box Loss', 'Class Loss', 'DFL Loss'],\n",
    "                       colors=colors[:3])\n",
    "axs_stack[0].set(title='Train Loss Components', xlabel='Epoch', ylabel='Loss')\n",
    "axs_stack[0].legend(loc='upper right')\n",
    "\n",
    "axs_stack[1].stackplot(model_result['epoch'],\n",
    "                       model_result['val/box_loss'],\n",
    "                       model_result['val/cls_loss'],\n",
    "                       model_result['val/dfl_loss'],\n",
    "                       labels=['Box Loss', 'Class Loss', 'DFL Loss'],\n",
    "                       colors=colors[:3])\n",
    "axs_stack[1].set(title='Validation Loss Components', xlabel='Epoch', ylabel='Loss')\n",
    "axs_stack[1].legend(loc='upper right')\n",
    "plt.tight_layout()\n",
    "plt.show()\n",
    "\n",
    "# 6. Smoothed Metrics (e.g., mAP50)\n",
    "model_result_smoothed = model_result.rolling(window=3, center=True).mean()\n",
    "fig_smooth, ax_smooth = plt.subplots(figsize=(10, 5), dpi=100)\n",
    "sns.lineplot(x='epoch', y='metrics/mAP50(B)', data=model_result, label='Original', alpha=0.3, ax=ax_smooth, color=colors[5])\n",
    "sns.lineplot(x='epoch', y='metrics/mAP50(B)', data=model_result_smoothed, label='Smoothed', ax=ax_smooth, color=colors[5], linewidth=2)\n",
    "ax_smooth.set(title='Smoothed mAP50 (B)', xlabel='Epoch', ylabel='mAP50 (B)')\n",
    "ax_smooth.legend()\n",
    "plt.tight_layout()\n",
    "plt.show()\n",
    "\n",
    "# 7. Metrics Correlation Heatmap\n",
    "metrics_cols = ['train/box_loss', 'train/cls_loss', 'train/dfl_loss', \n",
    "                'val/box_loss', 'val/cls_loss', 'val/dfl_loss', \n",
    "                'metrics/precision(B)', 'metrics/recall(B)', \n",
    "                'metrics/mAP50(B)', 'metrics/mAP50-95(B)']\n",
    "correlation_matrix = model_result[metrics_cols].corr()\n",
    "\n",
    "fig_corr, ax_corr = plt.subplots(figsize=(15, 8), dpi=100)\n",
    "sns.heatmap(correlation_matrix, annot=True, cmap='gnuplot', fmt='.2f', ax=ax_corr, cbar_kws={'label': 'Correlation'})\n",
    "ax_corr.set(title='Metrics Correlation Heatmap')\n",
    "plt.tight_layout()\n",
    "plt.show()\n",
    "\n",
    "# 8. Training Time Plot (using 'time' column)\n",
    "fig_time, ax_time = plt.subplots(figsize=(10, 5), dpi=100)\n",
    "sns.lineplot(x='epoch', y='time', data=model_result, ax=ax_time, color=colors[7], linewidth=2)\n",
    "ax_time.set(title='Training Time per Epoch', xlabel='Epoch', ylabel='Time (seconds)')\n",
    "plt.tight_layout()\n",
    "plt.show()\n",
    "\n",
    "# Display the original plot\n",
    "plt.figure(fig)\n",
    "plt.show()"
   ]
  },
  {
   "cell_type": "markdown",
   "metadata": {},
   "source": [
    "## Print all metrics"
   ]
  },
  {
   "cell_type": "code",
   "execution_count": null,
   "metadata": {},
   "outputs": [],
   "source": [
    "best_model=\"/kaggle/working/runs/detect/train/weights/best.pt\"\n",
    "test_model=YOLO(best_model)\n",
    "metrics=test_model.val(split=\"test\")\n",
    "\n",
    "\n",
    "for metric_name, value in metrics.results_dict.items():\n",
    "    print(f\"{metric_name}: {value}\")"
   ]
  },
  {
   "cell_type": "code",
   "execution_count": null,
   "metadata": {},
   "outputs": [],
   "source": [
    "def resize_image(image, size=(640, 640)):\n",
    "    return cv2.resize(image, size)\n",
    "\n",
    "test_images_path = '/kaggle/input/visdrone-dataset/VisDrone_Dataset/VisDrone2019-DET-test-challenge/images'\n",
    "image_files = [f for f in os.listdir(test_images_path) if f.lower().endswith('.jpg')]\n",
    "\n",
    "step = max(1, len(image_files) // 49)\n",
    "selected_images = image_files[::step][:49]\n",
    "\n",
    "fig, axes = plt.subplots(7, 7, figsize=(24, 24))\n",
    "fig.suptitle('Test Set Predictions (7x7 Grid)', fontsize=24)\n",
    "\n",
    "for ax, img_name in zip(axes.flatten(), selected_images):\n",
    "    img_path = os.path.join(test_images_path, img_name)\n",
    "    img = cv2.imread(img_path)\n",
    "    if img is not None:\n",
    "        img_resized = resize_image(img)\n",
    "        results = test_model.predict(source=img_resized, imgsz=640, conf=0.5)\n",
    "        annotated = results[0].plot(line_width=1)\n",
    "        annotated_rgb = cv2.cvtColor(annotated, cv2.COLOR_BGR2RGB)\n",
    "        ax.imshow(annotated_rgb)\n",
    "    else:\n",
    "        ax.text(0.5, 0.5, 'Load failed', ha='center', va='center')\n",
    "    ax.axis('off')\n",
    "\n",
    "plt.tight_layout()\n",
    "plt.show()"
   ]
  },
  {
   "cell_type": "markdown",
   "metadata": {},
   "source": [
    "## Showing some images on test"
   ]
  },
  {
   "cell_type": "code",
   "execution_count": null,
   "metadata": {},
   "outputs": [],
   "source": [
    "from ultralytics import YOLO\n",
    "import os, glob\n",
    "from IPython.display import Image, display\n",
    "\n",
    "# Load trained model\n",
    "model = YOLO(\"/kaggle/working/runs/detect/train/weights/best.pt\")\n",
    "\n",
    "# Get 10 test images\n",
    "test_dir = \"/kaggle/input/visdrone-dataset/VisDrone_Dataset/VisDrone2019-DET-test-challenge/images\"\n",
    "test_images = sorted(os.listdir(test_dir))[:10]\n",
    "test_paths = [os.path.join(test_dir, img) for img in test_images]\n",
    "\n",
    "# Predict and save\n",
    "results = model.predict(source=test_paths, save=True, conf=0.25)\n",
    "\n",
    "# Display results\n",
    "predicted_images = glob.glob(\"runs/detect/predict/*.jpg\")\n",
    "for img_path in predicted_images:\n",
    "    display(Image(filename=img_path))"
   ]
  },
  {
   "cell_type": "markdown",
   "metadata": {},
   "source": [
    "Thanks for reading! If this analysis helped you understand Visdrone-dataset better, an upvote would mean a lot 🙏\n",
    "Stay safe & take care of your mental health ❤️"
   ]
  }
 ],
 "metadata": {
  "kernelspec": {
   "display_name": "Python 3",
   "language": "python",
   "name": "python3"
  },
  "language_info": {
   "codemirror_mode": {
    "name": "ipython",
    "version": 3
   },
   "file_extension": ".py",
   "mimetype": "text/x-python",
   "name": "python",
   "nbconvert_exporter": "python",
   "pygments_lexer": "ipython3",
   "version": "3.11.13"
  }
 },
 "nbformat": 4,
 "nbformat_minor": 4
}
