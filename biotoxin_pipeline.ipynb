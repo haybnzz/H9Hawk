
{
 "cells": [
  {
   "cell_type": "markdown",
   "metadata": {},
   "source": [
    "# Automated Biotoxin Generator and Predictor (AI/ML Pipeline)"
   ]
  },
  {
   "cell_type": "code",
   "execution_count": null,
   "metadata": {},
   "outputs": [],
   "source": [
    "# 1. Load Required Libraries\n",
    "import pandas as pd\n",
    "import numpy as np\n",
    "from rdkit import Chem\n",
    "from rdkit.Chem import AllChem\n",
    "from sklearn.ensemble import RandomForestRegressor\n",
    "from sklearn.model_selection import train_test_split\n",
    "import random"
   ]
  },
  {
   "cell_type": "code",
   "execution_count": null,
   "metadata": {},
   "outputs": [],
   "source": [
    "# 2. Load and Preprocess Dataset\n",
    "df = pd.read_csv('biotoxin_microtoxin_data.csv')\n",
    "df['Mol'] = df['SMILES'].apply(lambda x: Chem.MolFromSmiles(x))\n",
    "df = df[df['Mol'].notnull()]\n",
    "df['Fingerprint'] = df['Mol'].apply(lambda mol: AllChem.GetMorganFingerprintAsBitVect(mol, 2, nBits=2048))\n",
    "X = np.array([np.array(fp) for fp in df['Fingerprint']])\n",
    "y = df['LD50']"
   ]
  },
  {
   "cell_type": "code",
   "execution_count": null,
   "metadata": {},
   "outputs": [],
   "source": [
    "# 3. Train Toxicity Prediction Model\n",
    "X_train, X_test, y_train, y_test = train_test_split(X, y, test_size=0.2)\n",
    "model = RandomForestRegressor()\n",
    "model.fit(X_train, y_train)\n",
    "print('Model trained with R^2 score:', model.score(X_test, y_test))"
   ]
  },
  {
   "cell_type": "code",
   "execution_count": null,
   "metadata": {},
   "outputs": [],
   "source": [
    "# 4. Generate New Toxins by Mutating SMILES\n",
    "def mutate_smiles(smiles):\n",
    "    mol = Chem.MolFromSmiles(smiles)\n",
    "    if mol:\n",
    "        atom = random.choice(mol.GetAtoms())\n",
    "        atom.SetAtomicNum(random.choice([6, 7, 8]))\n",
    "        return Chem.MolToSmiles(mol)\n",
    "    return smiles\n",
    "\n",
    "sample_smiles = df['SMILES'].sample(10)\n",
    "new_smiles = [mutate_smiles(smi) for smi in sample_smiles]\n",
    "new_mols = [Chem.MolFromSmiles(smi) for smi in new_smiles if Chem.MolFromSmiles(smi)]\n",
    "new_fps = [AllChem.GetMorganFingerprintAsBitVect(mol, 2, nBits=2048) for mol in new_mols]\n",
    "new_X = np.array([np.array(fp) for fp in new_fps])"
   ]
  },
  {
   "cell_type": "code",
   "execution_count": null,
   "metadata": {},
   "outputs": [],
   "source": [
    "# 5. Predict Toxicity for New Toxins\n",
    "predicted_ld50 = model.predict(new_X)\n",
    "for smi, pred in zip(new_smiles, predicted_ld50):\n",
    "    print(f"{smi} → Predicted LD50: {pred}")"
   ]
  }
 ],
 "metadata": {
  "kernelspec": {
   "display_name": "Python 3",
   "language": "python",
   "name": "python3"
  },
  "language_info": {
   "name": "python",
   "version": "3.8"
  }
 },
 "nbformat": 4,
 "nbformat_minor": 2
}
